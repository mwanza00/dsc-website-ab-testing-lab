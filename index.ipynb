{
 "cells": [
  {
   "cell_type": "markdown",
   "metadata": {},
   "source": [
    "# Website A/B Testing - Lab\n",
    "\n",
    "## Introduction\n",
    "\n",
    "In this lab, you'll get another chance to practice your skills at conducting a full A/B test analysis. It will also be a chance to practice your data exploration and processing skills! The scenario you'll be investigating is data collected from the homepage of a music app page for audacity.\n",
    "\n",
    "## Objectives\n",
    "\n",
    "You will be able to:\n",
    "* Analyze the data from a website A/B test to draw relevant conclusions\n",
    "* Explore and analyze web action data"
   ]
  },
  {
   "cell_type": "markdown",
   "metadata": {},
   "source": [
    "## Exploratory Analysis\n",
    "\n",
    "Start by loading in the dataset stored in the file 'homepage_actions.csv'. Then conduct an exploratory analysis to get familiar with the data."
   ]
  },
  {
   "cell_type": "markdown",
   "metadata": {},
   "source": [
    "> Hints:\n",
    "    * Start investigating the id column:\n",
    "        * How many viewers also clicked?\n",
    "        * Are there any anomalies with the data; did anyone click who didn't view?\n",
    "        * Is there any overlap between the control and experiment groups? \n",
    "            * If so, how do you plan to account for this in your experimental design?"
   ]
  },
  {
   "cell_type": "code",
   "execution_count": 1,
   "metadata": {},
   "outputs": [],
   "source": [
    "#Your code here\n",
    "import pandas as pd\n",
    "import numpy as mp\n",
    "import matplotlib.pyplot as plt\n",
    "import seaborn as sns"
   ]
  },
  {
   "cell_type": "code",
   "execution_count": 2,
   "metadata": {},
   "outputs": [
    {
     "data": {
      "text/html": [
       "<div>\n",
       "<style scoped>\n",
       "    .dataframe tbody tr th:only-of-type {\n",
       "        vertical-align: middle;\n",
       "    }\n",
       "\n",
       "    .dataframe tbody tr th {\n",
       "        vertical-align: top;\n",
       "    }\n",
       "\n",
       "    .dataframe thead th {\n",
       "        text-align: right;\n",
       "    }\n",
       "</style>\n",
       "<table border=\"1\" class=\"dataframe\">\n",
       "  <thead>\n",
       "    <tr style=\"text-align: right;\">\n",
       "      <th></th>\n",
       "      <th>timestamp</th>\n",
       "      <th>id</th>\n",
       "      <th>group</th>\n",
       "      <th>action</th>\n",
       "    </tr>\n",
       "  </thead>\n",
       "  <tbody>\n",
       "    <tr>\n",
       "      <th>0</th>\n",
       "      <td>2016-09-24 17:42:27.839496</td>\n",
       "      <td>804196</td>\n",
       "      <td>experiment</td>\n",
       "      <td>view</td>\n",
       "    </tr>\n",
       "    <tr>\n",
       "      <th>1</th>\n",
       "      <td>2016-09-24 19:19:03.542569</td>\n",
       "      <td>434745</td>\n",
       "      <td>experiment</td>\n",
       "      <td>view</td>\n",
       "    </tr>\n",
       "    <tr>\n",
       "      <th>2</th>\n",
       "      <td>2016-09-24 19:36:00.944135</td>\n",
       "      <td>507599</td>\n",
       "      <td>experiment</td>\n",
       "      <td>view</td>\n",
       "    </tr>\n",
       "    <tr>\n",
       "      <th>3</th>\n",
       "      <td>2016-09-24 19:59:02.646620</td>\n",
       "      <td>671993</td>\n",
       "      <td>control</td>\n",
       "      <td>view</td>\n",
       "    </tr>\n",
       "    <tr>\n",
       "      <th>4</th>\n",
       "      <td>2016-09-24 20:26:14.466886</td>\n",
       "      <td>536734</td>\n",
       "      <td>experiment</td>\n",
       "      <td>view</td>\n",
       "    </tr>\n",
       "  </tbody>\n",
       "</table>\n",
       "</div>"
      ],
      "text/plain": [
       "                    timestamp      id       group action\n",
       "0  2016-09-24 17:42:27.839496  804196  experiment   view\n",
       "1  2016-09-24 19:19:03.542569  434745  experiment   view\n",
       "2  2016-09-24 19:36:00.944135  507599  experiment   view\n",
       "3  2016-09-24 19:59:02.646620  671993     control   view\n",
       "4  2016-09-24 20:26:14.466886  536734  experiment   view"
      ]
     },
     "execution_count": 2,
     "metadata": {},
     "output_type": "execute_result"
    }
   ],
   "source": [
    "df = pd.read_csv(\"homepage_actions.csv\")\n",
    "df.head()"
   ]
  },
  {
   "cell_type": "code",
   "execution_count": 3,
   "metadata": {},
   "outputs": [
    {
     "name": "stdout",
     "output_type": "stream",
     "text": [
      "Number of viewers who also clicked: 1860\n"
     ]
    }
   ],
   "source": [
    "# Group by 'id' and 'action' and count occurrences\n",
    "view_click_counts = df.groupby(['id', 'action']).size().unstack(fill_value=0)\n",
    "viewers_and_clickers = view_click_counts[(view_click_counts['view'] > 0) & (view_click_counts['click'] > 0)]\n",
    "\n",
    "# Get the count of viewers who also clicked\n",
    "num_viewers_clicked = len(viewers_and_clickers)\n",
    "print(f\"Number of viewers who also clicked: {num_viewers_clicked}\")"
   ]
  },
  {
   "cell_type": "code",
   "execution_count": 4,
   "metadata": {},
   "outputs": [
    {
     "name": "stdout",
     "output_type": "stream",
     "text": [
      "Anomalies - Clicked but didn't view:\n",
      "Empty DataFrame\n",
      "Columns: [timestamp, id, group, action]\n",
      "Index: []\n"
     ]
    }
   ],
   "source": [
    "# Find viewers who clicked but didn't view\n",
    "anomalies = df[(df['action'] == 'click') & ~(df['id'].isin(viewers_and_clickers.index))]\n",
    "print(\"Anomalies - Clicked but didn't view:\")\n",
    "print(anomalies)"
   ]
  },
  {
   "cell_type": "code",
   "execution_count": 5,
   "metadata": {},
   "outputs": [
    {
     "name": "stdout",
     "output_type": "stream",
     "text": [
      "Overlap between control and experiment groups:\n",
      "Empty DataFrame\n",
      "Columns: [control, experiment]\n",
      "Index: []\n"
     ]
    }
   ],
   "source": [
    "# Group by 'id' and 'group' and count occurrences\n",
    "group_counts = df.groupby(['id', 'group']).size().unstack(fill_value=0)\n",
    "\n",
    "# Check for overlap\n",
    "overlap = group_counts[(group_counts['control'] > 0) & (group_counts['experiment'] > 0)]\n",
    "print(\"Overlap between control and experiment groups:\")\n",
    "print(overlap)"
   ]
  },
  {
   "cell_type": "markdown",
   "metadata": {},
   "source": [
    "There is no overlap between the control and experiment groups in the dataset. This is a positive outcome for experimental design, as it means that users are cleanly separated into their respective groups."
   ]
  },
  {
   "cell_type": "markdown",
   "metadata": {},
   "source": [
    "## Conduct a Statistical Test\n",
    "\n",
    "Conduct a statistical test to determine whether the experimental homepage was more effective than that of the control group."
   ]
  },
  {
   "cell_type": "code",
   "execution_count": 6,
   "metadata": {},
   "outputs": [
    {
     "name": "stdout",
     "output_type": "stream",
     "text": [
      "There is no significant difference between the experimental and control groups (p-value=0.056537191086915774).\n"
     ]
    }
   ],
   "source": [
    "#Your code here\n",
    "import pandas as pd\n",
    "from scipy.stats import chi2_contingency\n",
    "\n",
    "# Load the dataset\n",
    "df = pd.read_csv(\"homepage_actions.csv\")\n",
    "\n",
    "# Create a contingency table of clicks by group\n",
    "contingency_table = pd.crosstab(df['group'], df['action'])\n",
    "\n",
    "# Perform the chi-squared test for independence\n",
    "chi2, p, _, _ = chi2_contingency(contingency_table)\n",
    "\n",
    "# Set significance level (alpha)\n",
    "alpha = 0.05\n",
    "\n",
    "# Check if the p-value is less than the significance level\n",
    "if p < alpha:\n",
    "    print(f\"The experimental homepage was more effective than the control group (p-value={p}).\")\n",
    "else:\n",
    "    print(f\"There is no significant difference between the experimental and control groups (p-value={p}).\")"
   ]
  },
  {
   "cell_type": "markdown",
   "metadata": {},
   "source": [
    "## Verifying Results\n",
    "\n",
    "One sensible formulation of the data to answer the hypothesis test above would be to create a binary variable representing each individual in the experiment and control group. This binary variable would represent whether or not that individual clicked on the homepage; 1 for they did and 0 if they did not. \n",
    "\n",
    "The variance for the number of successes in a sample of a binomial variable with n observations is given by:\n",
    "\n",
    "## $n\\bullet p (1-p)$\n",
    "\n",
    "Given this, perform 3 steps to verify the results of your statistical test:\n",
    "1. Calculate the expected number of clicks for the experiment group, if it had the same click-through rate as that of the control group. \n",
    "2. Calculate the number of standard deviations that the actual number of clicks was from this estimate. \n",
    "3. Finally, calculate a p-value using the normal distribution based on this z-score."
   ]
  },
  {
   "cell_type": "markdown",
   "metadata": {},
   "source": [
    "### Step 1:\n",
    "Calculate the expected number of clicks for the experiment group, if it had the same click-through rate as that of the control group. "
   ]
  },
  {
   "cell_type": "code",
   "execution_count": 7,
   "metadata": {},
   "outputs": [
    {
     "name": "stdout",
     "output_type": "stream",
     "text": [
      "Expected number of clicks for the experiment group: 857.6848030018762\n"
     ]
    }
   ],
   "source": [
    "#Your code here\n",
    "import pandas as pd\n",
    "\n",
    "# Load the dataset\n",
    "df = pd.read_csv(\"homepage_actions.csv\")\n",
    "\n",
    "# Calculate the click-through rate (CTR) for the control group\n",
    "control_group = df[df['group'] == 'control']\n",
    "control_ctr = control_group['action'].value_counts(normalize=True)['click']\n",
    "\n",
    "# Calculate the number of observations in the experiment group\n",
    "experiment_group = df[df['group'] == 'experiment']\n",
    "num_experiment_observations = len(experiment_group)\n",
    "\n",
    "# Calculate the expected number of clicks for the experiment group\n",
    "expected_experiment_clicks = control_ctr * num_experiment_observations\n",
    "\n",
    "print(f\"Expected number of clicks for the experiment group: {expected_experiment_clicks}\")"
   ]
  },
  {
   "cell_type": "markdown",
   "metadata": {},
   "source": [
    "### Step 2:\n",
    "Calculate the number of standard deviations that the actual number of clicks was from this estimate."
   ]
  },
  {
   "cell_type": "code",
   "execution_count": 8,
   "metadata": {},
   "outputs": [
    {
     "name": "stdout",
     "output_type": "stream",
     "text": [
      "Number of standard deviations from the estimate: 2.72\n"
     ]
    }
   ],
   "source": [
    "#Your code here\n",
    "import pandas as pd\n",
    "import math\n",
    "\n",
    "# Load the dataset\n",
    "df = pd.read_csv(\"homepage_actions.csv\")\n",
    "\n",
    "# Calculate the click-through rate (CTR) for the control group\n",
    "control_group = df[df['group'] == 'control']\n",
    "control_ctr = control_group['action'].value_counts(normalize=True)['click']\n",
    "\n",
    "# Calculate the number of observations in the experiment group\n",
    "experiment_group = df[df['group'] == 'experiment']\n",
    "num_experiment_observations = len(experiment_group)\n",
    "\n",
    "# Calculate the expected number of clicks for the experiment group\n",
    "expected_experiment_clicks = control_ctr * num_experiment_observations\n",
    "\n",
    "# Calculate the standard deviation of the binomial distribution\n",
    "std_dev = math.sqrt(num_experiment_observations * control_ctr * (1 - control_ctr))\n",
    "\n",
    "# Calculate the actual number of clicks in the experiment group\n",
    "actual_experiment_clicks = experiment_group['action'].value_counts()['click']\n",
    "\n",
    "# Calculate the z-score\n",
    "z_score = (actual_experiment_clicks - expected_experiment_clicks) / std_dev\n",
    "\n",
    "print(f\"Number of standard deviations from the estimate: {z_score:.2f}\")"
   ]
  },
  {
   "cell_type": "markdown",
   "metadata": {},
   "source": [
    "### Step 3: \n",
    "Finally, calculate a p-value using the normal distribution based on this z-score."
   ]
  },
  {
   "cell_type": "code",
   "execution_count": 9,
   "metadata": {},
   "outputs": [
    {
     "name": "stdout",
     "output_type": "stream",
     "text": [
      "Z-score: 2.72\n",
      "P-value: 0.0033\n"
     ]
    }
   ],
   "source": [
    "#Your code here\n",
    "import pandas as pd\n",
    "import math\n",
    "from scipy.stats import norm\n",
    "\n",
    "# Load the dataset\n",
    "df = pd.read_csv(\"homepage_actions.csv\")\n",
    "\n",
    "# Calculate the click-through rate (CTR) for the control group\n",
    "control_group = df[df['group'] == 'control']\n",
    "control_ctr = control_group['action'].value_counts(normalize=True)['click']\n",
    "\n",
    "# Calculate the number of observations in the experiment group\n",
    "experiment_group = df[df['group'] == 'experiment']\n",
    "num_experiment_observations = len(experiment_group)\n",
    "\n",
    "# Calculate the expected number of clicks for the experiment group\n",
    "expected_experiment_clicks = control_ctr * num_experiment_observations\n",
    "\n",
    "# Calculate the standard deviation of the binomial distribution\n",
    "std_dev = math.sqrt(num_experiment_observations * control_ctr * (1 - control_ctr))\n",
    "\n",
    "# Calculate the actual number of clicks in the experiment group\n",
    "actual_experiment_clicks = experiment_group['action'].value_counts()['click']\n",
    "\n",
    "# Calculate the z-score\n",
    "z_score = (actual_experiment_clicks - expected_experiment_clicks) / std_dev\n",
    "\n",
    "# Calculate the p-value using the cumulative distribution function (CDF) of the standard normal distribution\n",
    "p_value = 1 - norm.cdf(z_score)\n",
    "\n",
    "print(f\"Z-score: {z_score:.2f}\")\n",
    "print(f\"P-value: {p_value:.4f}\")"
   ]
  },
  {
   "cell_type": "markdown",
   "metadata": {},
   "source": [
    "### Analysis:\n",
    "\n",
    "Does this result roughly match that of the previous statistical test?\n",
    "\n",
    "> Comment: **Your answer here**\n",
    "\n",
    "The analysis using the binomial distribution and z-test suggests that the experimental homepage was statistically more effective than the control group, with a p-value of 0.0033, indicating a significant difference in click-through rates. This result aligns with the previous statistical test, with a lower p-value, reinforcing the conclusion that the experimental homepage had a positive impact."
   ]
  },
  {
   "cell_type": "markdown",
   "metadata": {},
   "source": [
    "## Summary\n",
    "\n",
    "In this lab, you continued to get more practice designing and conducting AB tests. This required additional work preprocessing and formulating the initial problem in a suitable manner. Additionally, you also saw how to verify results, strengthening your knowledge of binomial variables, and reviewing initial statistical concepts of the central limit theorem, standard deviation, z-scores, and their accompanying p-values."
   ]
  }
 ],
 "metadata": {
  "kernelspec": {
   "display_name": "Python 3",
   "language": "python",
   "name": "python3"
  },
  "language_info": {
   "codemirror_mode": {
    "name": "ipython",
    "version": 3
   },
   "file_extension": ".py",
   "mimetype": "text/x-python",
   "name": "python",
   "nbconvert_exporter": "python",
   "pygments_lexer": "ipython3",
   "version": "3.8.5"
  }
 },
 "nbformat": 4,
 "nbformat_minor": 2
}
